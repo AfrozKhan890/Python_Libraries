{
 "cells": [
  {
   "cell_type": "markdown",
   "metadata": {},
   "source": [
    "# Numpy Random Array\n",
    "\n",
    " - 1. rand : Generates Random numbers between 0 and 1 (uniform distribution).\n",
    " - 2. randn : Grenerates Random numbers following a normal distribution (mean = 0, std = 1).\n",
    " - 3. ranf : Generates Random floats between 0 and 1 (similar to rand, but accepts a shape as an argument instead of dimensions).\n",
    " - 4. randint"
   ]
  },
  {
   "cell_type": "code",
   "execution_count": null,
   "metadata": {},
   "outputs": [],
   "source": []
  },
  {
   "cell_type": "code",
   "execution_count": 1,
   "metadata": {},
   "outputs": [],
   "source": [
    "import numpy as np"
   ]
  },
  {
   "cell_type": "markdown",
   "metadata": {},
   "source": [
    "# 1. rand function\n",
    "- Generates Random numbers between 0 and 1 (uniform distribution)."
   ]
  },
  {
   "cell_type": "code",
   "execution_count": 2,
   "metadata": {},
   "outputs": [
    {
     "name": "stdout",
     "output_type": "stream",
     "text": [
      "[0.885965   0.74655113 0.0239433 ]\n"
     ]
    }
   ],
   "source": [
    "arr = np.random.rand(3)\n",
    "print(arr)"
   ]
  },
  {
   "cell_type": "markdown",
   "metadata": {},
   "source": [
    "# 2. randn function\n",
    "- Random numbers following a normal distribution (mean = 0, std = 1)."
   ]
  },
  {
   "cell_type": "code",
   "execution_count": 3,
   "metadata": {},
   "outputs": [
    {
     "name": "stdout",
     "output_type": "stream",
     "text": [
      "[[-1.42252524  0.61780354  0.32929628]\n",
      " [-1.20583167  0.44823689  1.47071622]\n",
      " [ 0.6358297   0.47018777 -2.41340811]\n",
      " [ 0.09138235 -0.44075048 -1.14055716]\n",
      " [-0.05668153  1.08241253 -0.70157003]]\n",
      "float64\n"
     ]
    }
   ],
   "source": [
    "arr = np.random.randn(5,3)\n",
    "print(arr)\n",
    "print(arr.dtype)"
   ]
  },
  {
   "cell_type": "markdown",
   "metadata": {},
   "source": [
    "# 3. ranf function\n",
    "- Random floats between 0 and 1 (similar to rand, but accepts a shape as an argument instead of dimensions)."
   ]
  },
  {
   "cell_type": "code",
   "execution_count": 4,
   "metadata": {},
   "outputs": [
    {
     "name": "stdout",
     "output_type": "stream",
     "text": [
      "[0.86221944 0.23215039 0.13228936]\n",
      "float64\n"
     ]
    }
   ],
   "source": [
    "arr = np.random.ranf(3)\n",
    "print(arr)\n",
    "print(arr.dtype)"
   ]
  },
  {
   "cell_type": "markdown",
   "metadata": {},
   "source": [
    "# 4. randint function\n",
    "- Random integers from low (inclusive) to high (exclusive).\n",
    "\n",
    "        - Usage: numpy.random.randint(low, high, size)"
   ]
  },
  {
   "cell_type": "code",
   "execution_count": 5,
   "metadata": {},
   "outputs": [
    {
     "name": "stdout",
     "output_type": "stream",
     "text": [
      "[16 15 11]\n",
      "1\n"
     ]
    }
   ],
   "source": [
    "arr = np.random.randint(10,20,3)\n",
    "print(arr)\n",
    "print(arr.ndim)"
   ]
  },
  {
   "cell_type": "markdown",
   "metadata": {},
   "source": [
    "# Extras"
   ]
  },
  {
   "cell_type": "code",
   "execution_count": 6,
   "metadata": {},
   "outputs": [
    {
     "name": "stdout",
     "output_type": "stream",
     "text": [
      "[140  50 120]\n"
     ]
    }
   ],
   "source": [
    "arr = np.random.randint(5,20,3)*10\n",
    "print(arr)"
   ]
  }
 ],
 "metadata": {
  "kernelspec": {
   "display_name": "Python 3",
   "language": "python",
   "name": "python3"
  },
  "language_info": {
   "codemirror_mode": {
    "name": "ipython",
    "version": 3
   },
   "file_extension": ".py",
   "mimetype": "text/x-python",
   "name": "python",
   "nbconvert_exporter": "python",
   "pygments_lexer": "ipython3",
   "version": "3.12.4"
  }
 },
 "nbformat": 4,
 "nbformat_minor": 2
}
